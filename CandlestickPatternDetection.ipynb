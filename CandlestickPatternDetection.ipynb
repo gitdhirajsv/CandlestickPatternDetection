{
  "cells": [
    {
      "cell_type": "markdown",
      "metadata": {
        "id": "ENiuHYAJZXSc"
      },
      "source": [
        "\n",
        "\n"
      ]
    },
    {
      "cell_type": "code",
      "execution_count": null,
      "metadata": {
        "colab": {
          "base_uri": "https://localhost:8080/"
        },
        "id": "Wb-M1GrQTK3o",
        "outputId": "5e00cd76-2212-45ea-9119-b92f6885f178"
      },
      "outputs": [],
      "source": [
        "!pip install binance-futures\n",
        "!pip install python-telegram-bot\n",
        "\n",
        "\n"
      ]
    },
    {
      "cell_type": "code",
      "execution_count": null,
      "metadata": {
        "colab": {
          "base_uri": "https://localhost:8080/"
        },
        "id": "J2Qm9IsVWY_a",
        "outputId": "14547c92-b314-421c-a954-787f4d77320f"
      },
      "outputs": [],
      "source": [
        "!wget http://prdownloads.sourceforge.net/ta-lib/ta-lib-0.4.0-src.tar.gz\n",
        "!tar -xzvf ta-lib-0.4.0-src.tar.gz\n",
        "%cd ta-lib\n",
        "!./configure --prefix=/usr\n",
        "!make\n",
        "!make install\n",
        "!pip install Ta-Lib\n",
        "import talib"
      ]
    },
    {
      "cell_type": "markdown",
      "metadata": {
        "id": "T2gx7VROrrMR"
      },
      "source": [
        "\n",
        "The following code continuously monitors cryptocurrency pairs for specific candlestick patterns when bullish signals are detected.\n"
      ]
    },
    {
      "cell_type": "markdown",
      "metadata": {
        "id": "8lSt0HqzY0ge"
      },
      "source": []
    },
    {
      "cell_type": "code",
      "execution_count": null,
      "metadata": {
        "id": "YRac3VG0pytt"
      },
      "outputs": [],
      "source": [
        "import pandas as pd\n",
        "from binance_f import RequestClient\n",
        "from binance_f.model import CandlestickInterval\n",
        "import talib\n",
        "import time\n",
        "\n",
        "# Initialize Binance Futures client\n",
        "api_key = 'YOUR_API_KEY'\n",
        "api_secret = 'YOUR_API_SECRET'\n",
        "client = RequestClient(api_key=api_key, secret_key=api_secret)\n",
        "\n",
        "# Define function to fetch historical candlestick data\n",
        "def fetch_candlestick_data(symbol, interval, limit):\n",
        "    candles = client.get_candlestick_data(symbol=symbol, interval=interval, limit=limit)\n",
        "    data = {\n",
        "        'timestamp': [pd.to_datetime(candle.closeTime, unit='ms') for candle in candles],\n",
        "        'open': [float(candle.open) for candle in candles],\n",
        "        'high': [float(candle.high) for candle in candles],\n",
        "        'low': [float(candle.low) for candle in candles],\n",
        "        'close': [float(candle.close) for candle in candles]\n",
        "    }\n",
        "    return pd.DataFrame(data)\n",
        "\n",
        "# Define function to detect candlestick patterns\n",
        "def detect_candlestick_patterns(df):\n",
        "    hammer = talib.CDLHAMMER(df['open'], df['high'], df['low'], df['close'])\n",
        "    piercing_pattern = talib.CDLPIERCING(df['open'], df['high'], df['low'], df['close'])\n",
        "    bullish_engulfing = talib.CDLENGULFING(df['open'], df['high'], df['low'], df['close'])\n",
        "    morning_star = talib.CDLMORNINGSTAR(df['open'], df['high'], df['low'], df['close'])\n",
        "    three_white_soldiers = talib.CDL3WHITESOLDIERS(df['open'], df['high'], df['low'], df['close'])\n",
        "\n",
        "    patterns = pd.DataFrame({\n",
        "        'Hammer': hammer,\n",
        "        'Piercing Pattern': piercing_pattern,\n",
        "        'Bullish Engulfing': bullish_engulfing,\n",
        "        'Morning Star': morning_star,\n",
        "        'Three White Soldiers': three_white_soldiers\n",
        "    }, index=df.index)\n",
        "\n",
        "    return patterns\n",
        "\n",
        "# Function to detect candlestick patterns and print notifications\n",
        "def detect_and_notify(pair, patterns):\n",
        "    pattern_occurrences = patterns[patterns != 0].dropna(how='all')\n",
        "    if not pattern_occurrences.empty:\n",
        "        print(f\"Patterns Detected for {pair}:\\n{pattern_occurrences.to_string()}\")\n",
        "\n",
        "while True:\n",
        "    # List of cryptocurrency pairs you want to monitor\n",
        "    pairs = [\n",
        "        'BTCUSDT', 'ETHUSDT', 'BCHUSDT', 'XRPUSDT', 'EOSUSDT', 'LTCUSDT', 'TRXUSDT', 'ETCUSDT', 'LINKUSDT', 'XLMUSDT',\n",
        "        'ADAUSDT', 'XMRUSDT', 'DASHUSDT', 'ZECUSDT', 'XTZUSDT', 'BNBUSDT', 'ATOMUSDT', 'ONTUSDT', 'IOTAUSDT', 'BATUSDT',\n",
        "        'VETUSDT', 'NEOUSDT', 'QTUMUSDT', 'IOSTUSDT', 'THETAUSDT', 'ALGOUSDT', 'ZILUSDT', 'KNCUSDT', 'ZRXUSDT',\n",
        "        'COMPUSDT', 'OMGUSDT', 'DOGEUSDT', 'SXPUSDT', 'KAVAUSDT', 'BANDUSDT', 'RLCUSDT', 'WAVESUSDT', 'MKRUSDT',\n",
        "        'SNXUSDT', 'DOTUSDT', 'DEFIUSDT', 'YFIUSDT', 'BALUSDT', 'CRVUSDT', 'TRBUSDT', 'RUNEUSDT', 'SUSHIUSDT',\n",
        "        'EGLDUSDT', 'SOLUSDT', 'ICXUSDT', 'STORJUSDT', 'BLZUSDT', 'UNIUSDT', 'AVAXUSDT', 'FTMUSDT', 'ENJUSDT',\n",
        "        'FLMUSDT', 'RENUSDT', 'KSMUSDT', 'NEARUSDT', 'AAVEUSDT', 'FILUSDT', 'RSRUSDT', 'LRCUSDT', 'MATICUSDT',\n",
        "        'OCEANUSDT', 'BELUSDT', 'CTKUSDT', 'AXSUSDT', 'ALPHAUSDT', 'ZENUSDT', 'SKLUSDT', 'GRTUSDT', '1INCHUSDT',\n",
        "        'CHZUSDT', 'SANDUSDT', 'ANKRUSDT', 'LITUSDT', 'UNFIUSDT', 'REEFUSDT', 'RVNUSDT', 'SFPUSDT', 'XEMUSDT',\n",
        "        'COTIUSDT', 'CHRUSDT', 'MANAUSDT', 'ALICEUSDT', 'HBARUSDT', 'ONEUSDT', 'LINAUSDT', 'STMXUSDT', 'DENTUSDT',\n",
        "        'CELRUSDT', 'HOTUSDT', 'MTLUSDT', 'OGNUSDT', 'NKNUSDT', 'DGBUSDT', '1000SHIBUSDT', 'BAKEUSDT', 'GTCUSDT',\n",
        "        'BTCDOMUSDT', 'IOTXUSDT', 'AUDIOUSDT', 'C98USDT', 'MASKUSDT', 'ATAUSDT', 'DYDXUSDT', '1000XECUSDT', 'GALAUSDT',\n",
        "        'CELOUSDT', 'ARUSDT', 'KLAYUSDT', 'ARPAUSDT', 'CTSIUSDT', 'LPTUSDT', 'ENSUSDT', 'PEOPLEUSDT', 'ANTUSDT',\n",
        "        'ROSEUSDT', 'DUSKUSDT', 'FLOWUSDT', 'IMXUSDT', 'API3USDT', 'GMTUSDT', 'APEUSDT', 'WOOUSDT', 'JASMYUSDT',\n",
        "        'DARUSDT', 'GALUSDT', 'OPUSDT', 'INJUSDT', 'STGUSDT', 'SPELLUSDT', '1000LUNCUSDT', 'LUNA2USDT', 'LDOUSDT',\n",
        "        'CVXUSDT', 'ICPUSDT', 'APTUSDT', 'QNTUSDT', 'FETUSDT', 'FXSUSDT', 'HOOKUSDT', 'MAGICUSDT', 'TUSDT',\n",
        "        'RNDRUSDT', 'HIGHUSDT', 'MINAUSDT', 'ASTRUSDT', 'AGIXUSDT', 'PHBUSDT', 'GMXUSDT', 'CFXUSDT', 'STXUSDT',\n",
        "        'BNXUSDT', 'ACHUSDT', 'SSVUSDT', 'CKBUSDT', 'PERPUSDT', 'TRUUSDT', 'LQTYUSDT', 'USDCUSDT', 'IDUSDT', 'ARBUSDT',\n",
        "        'JOEUSDT', 'TLMUSDT', 'AMBUSDT', 'LEVERUSDT', 'RDNTUSDT', 'HFTUSDT', 'XVSUSDT', 'ETHBTC', 'BLURUSDT', 'EDUUSDT',\n",
        "        'IDEXUSDT', 'SUIUSDT', '1000PEPEUSDT', '1000FLOKIUSDT', 'UMAUSDT', 'RADUSDT', 'KEYUSDT', 'COMBOUSDT', 'NMRUSDT',\n",
        "        'MAVUSDT', 'MDTUSDT', 'XVGUSDT', 'WLDUSDT', 'PENDLEUSDT', 'ARKMUSDT', 'AGLDUSDT', 'YGGUSDT', 'DODOXUSDT',\n",
        "        'BNTUSDT', 'OXTUSDT', 'SEIUSDT', 'CYBERUSDT', 'HIFIUSDT', 'ARKUSDT', 'FRONTUSDT', 'GLMRUSDT', 'BICOUSDT',\n",
        "        'LOOMUSDT', 'BIGTIMEUSDT', 'BONDUSDT', 'ORBSUSDT', 'STPTUSDT', 'WAXPUSDT', 'BSVUSDT', 'RIFUSDT', 'POLYXUSDT',\n",
        "        'GASUSDT', 'POWRUSDT', 'SLPUSDT', 'TIAUSDT', 'SNTUSDT', 'CAKEUSDT', 'MEMEUSDT', 'TWTUSDT', 'TOKENUSDT',\n",
        "        'ORDIUSDT', 'STEEMUSDT', 'BADGERUSDT', 'ILVUSDT', 'NTRNUSDT', 'MBLUSDT', 'KASUSDT', 'BEAMXUSDT', '1000BONKUSDT',\n",
        "        'PYTHUSDT', 'SUPERUSDT', 'USTCUSDT', 'ONGUSDT', 'ETHWUSDT', 'JTOUSDT', '1000SATSUSDT', 'AUCTIONUSDT', '1000RATSUSDT',\n",
        "        'ACEUSDT', 'MOVRUSDT', 'NFPUSDT', 'BTCUSDC', 'ETHUSDC', 'BNBUSDC', 'SOLUSDC', 'XRPUSDC', 'AIUSDT', 'XAIUSDT',\n",
        "        'DOGEUSDC', 'WIFUSDT', 'MANTAUSDT', 'ONDOUSDT', 'LSKUSDT', 'ALTUSDT', 'JUPUSDT', 'ZETAUSDT', 'RONINUSDT',\n",
        "        'DYMUSDT', 'SUIUSDC', 'OMUSDT', 'LINKUSDC', 'PIXELUSDT', 'STRKUSDT', 'MAVIAUSDT', 'ORDIUSDC', 'GLMUSDT',\n",
        "        'PORTALUSDT', 'TONUSDT', 'AXLUSDT', 'MYROUSDT', '1000PEPEUSDC', 'METISUSDT', 'AEVOUSDT', 'WLDUSDC', 'VANRYUSDT',\n",
        "        'BOMEUSDT', 'ETHFIUSDT', 'AVAXUSDC', '1000SHIBUSDC'\n",
        "    ]  # Add more pairs as needed\n",
        "\n",
        "    for pair in pairs:\n",
        "        try:\n",
        "            # Fetch candlestick data for the current pair and timeframe\n",
        "            interval = CandlestickInterval.MIN15 # 15-minute intervals\n",
        "            limit = 100  # Number of candles to fetch\n",
        "\n",
        "            # Fetch historical candlestick data\n",
        "            candlestick_data = fetch_candlestick_data(pair, interval, limit)\n",
        "\n",
        "            # Detect patterns\n",
        "            patterns = detect_candlestick_patterns(candlestick_data)\n",
        "\n",
        "            # Print notifications if patterns are detected\n",
        "            detect_and_notify(pair, patterns)\n",
        "\n",
        "        except Exception as e:\n",
        "            print(f\"Error occurred for {pair}: {e}\")\n",
        "\n",
        "    # Sleep for 15 minutes before fetching new data\n",
        "    time.sleep(15 * 60)  # 15 minutes in seconds\n",
        "\n",
        "\n"
      ]
    },
    {
      "cell_type": "markdown",
      "metadata": {
        "id": "08uZ6i2ZZV2p"
      },
      "source": [
        "The following code continuously monitors cryptocurrency pairs for specific candlestick patterns when bearish signals are detected."
      ]
    },
    {
      "cell_type": "code",
      "execution_count": null,
      "metadata": {
        "id": "RcqpF0JNUIKI"
      },
      "outputs": [],
      "source": [
        "import pandas as pd\n",
        "from binance_f import RequestClient\n",
        "from binance_f.model import CandlestickInterval\n",
        "import talib\n",
        "import time\n",
        "\n",
        "# Initialize Binance Futures client\n",
        "api_key = 'YOUR_API_KEY'\n",
        "api_secret = 'YOUR_API_SECRET'\n",
        "client = RequestClient(api_key=api_key, secret_key=api_secret)\n",
        "\n",
        "# Define function to detect candlestick patterns\n",
        "def detect_candlestick_patterns(df):\n",
        "    hanging_man = talib.CDLHANGINGMAN(df['open'], df['high'], df['low'], df['close'])\n",
        "    dark_cloud_cover = talib.CDLDARKCLOUDCOVER(df['open'], df['high'], df['low'], df['close'])\n",
        "    bearish_engulfing = talib.CDLENGULFING(df['open'], df['high'], df['low'], df['close'])\n",
        "    evening_star = talib.CDLEVENINGSTAR(df['open'], df['high'], df['low'], df['close'])\n",
        "    three_black_crows = talib.CDL3BLACKCROWS(df['open'], df['high'], df['low'], df['close'])\n",
        "\n",
        "    patterns = pd.DataFrame({\n",
        "        'Hanging Man': hanging_man,\n",
        "        'Dark Cloud Cover': dark_cloud_cover,\n",
        "        'Bearish Engulfing': bearish_engulfing,\n",
        "        'Evening Star': evening_star,\n",
        "        'Three Black Crows': three_black_crows\n",
        "    }, index=df.index)\n",
        "\n",
        "    return patterns\n",
        "\n",
        "while True:\n",
        "    # List of cryptocurrency pairs you want to monitor\n",
        "    pairs = [\n",
        "        'BTCUSDT', 'ETHUSDT', 'BCHUSDT', 'XRPUSDT', 'EOSUSDT', 'LTCUSDT', 'TRXUSDT', 'ETCUSDT', 'LINKUSDT', 'XLMUSDT',\n",
        "        'ADAUSDT', 'XMRUSDT', 'DASHUSDT', 'ZECUSDT', 'XTZUSDT', 'BNBUSDT', 'ATOMUSDT', 'ONTUSDT', 'IOTAUSDT', 'BATUSDT',\n",
        "        'VETUSDT', 'NEOUSDT', 'QTUMUSDT', 'IOSTUSDT', 'THETAUSDT', 'ALGOUSDT', 'ZILUSDT', 'KNCUSDT', 'ZRXUSDT',\n",
        "        'COMPUSDT', 'OMGUSDT', 'DOGEUSDT', 'SXPUSDT', 'KAVAUSDT', 'BANDUSDT', 'RLCUSDT', 'WAVESUSDT', 'MKRUSDT',\n",
        "        'SNXUSDT', 'DOTUSDT', 'DEFIUSDT', 'YFIUSDT', 'BALUSDT', 'CRVUSDT', 'TRBUSDT', 'RUNEUSDT', 'SUSHIUSDT',\n",
        "        'EGLDUSDT', 'SOLUSDT', 'ICXUSDT', 'STORJUSDT', 'BLZUSDT', 'UNIUSDT', 'AVAXUSDT', 'FTMUSDT', 'ENJUSDT',\n",
        "        'FLMUSDT', 'RENUSDT', 'KSMUSDT', 'NEARUSDT', 'AAVEUSDT', 'FILUSDT', 'RSRUSDT', 'LRCUSDT', 'MATICUSDT',\n",
        "        'OCEANUSDT', 'BELUSDT', 'CTKUSDT', 'AXSUSDT', 'ALPHAUSDT', 'ZENUSDT', 'SKLUSDT', 'GRTUSDT', '1INCHUSDT',\n",
        "        'CHZUSDT', 'SANDUSDT', 'ANKRUSDT', 'LITUSDT', 'UNFIUSDT', 'REEFUSDT', 'RVNUSDT', 'SFPUSDT', 'XEMUSDT',\n",
        "        'COTIUSDT', 'CHRUSDT', 'MANAUSDT', 'ALICEUSDT', 'HBARUSDT', 'ONEUSDT', 'LINAUSDT', 'STMXUSDT', 'DENTUSDT',\n",
        "        'CELRUSDT', 'HOTUSDT', 'MTLUSDT', 'OGNUSDT', 'NKNUSDT', 'DGBUSDT', '1000SHIBUSDT', 'BAKEUSDT', 'GTCUSDT',\n",
        "        'BTCDOMUSDT', 'IOTXUSDT', 'AUDIOUSDT', 'C98USDT', 'MASKUSDT', 'ATAUSDT', 'DYDXUSDT', '1000XECUSDT', 'GALAUSDT',\n",
        "        'CELOUSDT', 'ARUSDT', 'KLAYUSDT', 'ARPAUSDT', 'CTSIUSDT', 'LPTUSDT', 'ENSUSDT', 'PEOPLEUSDT', 'ANTUSDT',\n",
        "        'ROSEUSDT', 'DUSKUSDT', 'FLOWUSDT', 'IMXUSDT', 'API3USDT', 'GMTUSDT', 'APEUSDT', 'WOOUSDT', 'JASMYUSDT',\n",
        "        'DARUSDT', 'GALUSDT', 'OPUSDT', 'INJUSDT', 'STGUSDT', 'SPELLUSDT', '1000LUNCUSDT', 'LUNA2USDT', 'LDOUSDT',\n",
        "        'CVXUSDT', 'ICPUSDT', 'APTUSDT', 'QNTUSDT', 'FETUSDT', 'FXSUSDT', 'HOOKUSDT', 'MAGICUSDT', 'TUSDT',\n",
        "        'RNDRUSDT', 'HIGHUSDT', 'MINAUSDT', 'ASTRUSDT', 'AGIXUSDT', 'PHBUSDT', 'GMXUSDT', 'CFXUSDT', 'STXUSDT',\n",
        "        'BNXUSDT', 'ACHUSDT', 'SSVUSDT', 'CKBUSDT', 'PERPUSDT', 'TRUUSDT', 'LQTYUSDT', 'USDCUSDT', 'IDUSDT', 'ARBUSDT',\n",
        "        'JOEUSDT', 'TLMUSDT', 'AMBUSDT', 'LEVERUSDT', 'RDNTUSDT', 'HFTUSDT', 'XVSUSDT', 'ETHBTC', 'BLURUSDT', 'EDUUSDT',\n",
        "        'IDEXUSDT', 'SUIUSDT', '1000PEPEUSDT', '1000FLOKIUSDT', 'UMAUSDT', 'RADUSDT', 'KEYUSDT', 'COMBOUSDT', 'NMRUSDT',\n",
        "        'MAVUSDT', 'MDTUSDT', 'XVGUSDT', 'WLDUSDT', 'PENDLEUSDT', 'ARKMUSDT', 'AGLDUSDT', 'YGGUSDT', 'DODOXUSDT',\n",
        "        'BNTUSDT', 'OXTUSDT', 'SEIUSDT', 'CYBERUSDT', 'HIFIUSDT', 'ARKUSDT', 'FRONTUSDT', 'GLMRUSDT', 'BICOUSDT',\n",
        "        'LOOMUSDT', 'BIGTIMEUSDT', 'BONDUSDT', 'ORBSUSDT', 'STPTUSDT', 'WAXPUSDT', 'BSVUSDT', 'RIFUSDT', 'POLYXUSDT',\n",
        "        'GASUSDT', 'POWRUSDT', 'SLPUSDT', 'TIAUSDT', 'SNTUSDT', 'CAKEUSDT', 'MEMEUSDT', 'TWTUSDT', 'TOKENUSDT',\n",
        "        'ORDIUSDT', 'STEEMUSDT', 'BADGERUSDT', 'ILVUSDT', 'NTRNUSDT', 'MBLUSDT', 'KASUSDT', 'BEAMXUSDT', '1000BONKUSDT',\n",
        "        'PYTHUSDT', 'SUPERUSDT', 'USTCUSDT', 'ONGUSDT', 'ETHWUSDT', 'JTOUSDT', '1000SATSUSDT', 'AUCTIONUSDT', '1000RATSUSDT',\n",
        "        'ACEUSDT', 'MOVRUSDT', 'NFPUSDT', 'BTCUSDC', 'ETHUSDC', 'BNBUSDC', 'SOLUSDC', 'XRPUSDC', 'AIUSDT', 'XAIUSDT',\n",
        "        'DOGEUSDC', 'WIFUSDT', 'MANTAUSDT', 'ONDOUSDT', 'LSKUSDT', 'ALTUSDT', 'JUPUSDT', 'ZETAUSDT', 'RONINUSDT',\n",
        "        'DYMUSDT', 'SUIUSDC', 'OMUSDT', 'LINKUSDC', 'PIXELUSDT', 'STRKUSDT', 'MAVIAUSDT', 'ORDIUSDC', 'GLMUSDT',\n",
        "        'PORTALUSDT', 'TONUSDT', 'AXLUSDT', 'MYROUSDT', '1000PEPEUSDC', 'METISUSDT', 'AEVOUSDT', 'WLDUSDC', 'VANRYUSDT',\n",
        "        'BOMEUSDT', 'ETHFIUSDT', 'AVAXUSDC', '1000SHIBUSDC'\n",
        "    ]  # Add more pairs as needed\n",
        "\n",
        "    for pair in pairs:\n",
        "        try:\n",
        "            # Fetch candlestick data for the current pair and timeframe\n",
        "            interval = CandlestickInterval.MIN15  # 15-minute intervals\n",
        "            limit = 100  # Number of candles to fetch\n",
        "\n",
        "            # Fetch historical candlestick data\n",
        "            candlestick_data = fetch_candlestick_data(pair, interval, limit)\n",
        "\n",
        "            # Detect patterns\n",
        "            patterns = detect_candlestick_patterns(candlestick_data)\n",
        "\n",
        "            # Filter for occurrences of patterns\n",
        "            pattern_occurrences = patterns[patterns != 0].dropna(how='all')\n",
        "\n",
        "            if not pattern_occurrences.empty:\n",
        "                print(f\"Patterns Detected for {pair}:\")\n",
        "                print(pattern_occurrences)\n",
        "\n",
        "        except Exception as e:\n",
        "            print(f\"Error occurred for {pair}: {e}\")\n",
        "\n",
        "    # Sleep for 15 minutes before fetching new data\n",
        "    time.sleep(15 * 60)  # 15 minutes in seconds\n"
      ]
    }
  ],
  "metadata": {
    "colab": {
      "provenance": []
    },
    "kernelspec": {
      "display_name": "Python 3",
      "name": "python3"
    },
    "language_info": {
      "name": "python"
    }
  },
  "nbformat": 4,
  "nbformat_minor": 0
}
